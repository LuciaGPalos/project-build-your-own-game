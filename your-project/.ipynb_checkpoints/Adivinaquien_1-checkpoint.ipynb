{
 "cells": [
  {
   "cell_type": "code",
   "execution_count": 14,
   "id": "c00e67c5-9eaa-4218-9c87-46212bfa5ba4",
   "metadata": {},
   "outputs": [],
   "source": [
    "##Adivina quién\n",
    "\n",
    "import random"
   ]
  },
  {
   "cell_type": "code",
   "execution_count": 15,
   "id": "7a8a026b-d4da-4cd7-b4fa-8221c7f9fb11",
   "metadata": {},
   "outputs": [],
   "source": [
    "##Diccionarios para Los Simpson\n",
    "\n",
    "homero_simpson = {'Nombre':'Homero Simpson',\n",
    "                  'Edad':'adulta',\n",
    "                  'Pelo':'calvicie',\n",
    "                   'Energía':'perezosa',\n",
    "                   'Frase':\"D'oh!\",\n",
    "                   'Ropa':'Jeans',\n",
    "                   'Gustos':'cerveza',\n",
    "                   'Sexo':'hombre'}\n",
    "bart_simpson = {'Nombre':'Bart Simpson',\n",
    "                  'Edad':'niñez',\n",
    "                   'Pelo':'puntiagudo',\n",
    "                   'Energía':'rebelde',\n",
    "                   'Frase':'Multiplicate por cero',\n",
    "                   'Ropa':'shorts',\n",
    "                   'Gustos':'patineta',\n",
    "                   'Sexo':'hombre'}\n",
    "lisa_simpson = {'Nombre':'Lisa Simpson',\n",
    "                  'Edad':'niñez',\n",
    "                   'Pelo':'estrellado',\n",
    "                   'Energía':'idealista',\n",
    "                   'Frase':'Si alguien me necesita, estaré en mi abitacion.',\n",
    "                   'Ropa':'vestido',\n",
    "                   'Gustos':'saxofón',\n",
    "                   'Sexo':'mujer'}\n",
    "marge_simpson = {'Nombre':'Marge Simpson',\n",
    "                  'Edad':'adulta',\n",
    "                   'Pelo':'rizado',\n",
    "                   'Energía':'estresada',\n",
    "                   'Frase':'¡Hhmmmm...!',\n",
    "                   'Ropa':'vestido',\n",
    "                   'Gustos':'apostar',\n",
    "                   'Sexo':'mujer'}\n",
    "maggie_simpson = {'Nombre':'Maggie Simpson',\n",
    "                  'Edad':'bebé',\n",
    "                   'Pelo':'estrellado',\n",
    "                   'Energía':'violenta',\n",
    "                   'Frase':'N/A',\n",
    "                   'Ropa':'vestido',\n",
    "                   'Gustos':'armas',\n",
    "                   'Sexo':'mujer'}\n",
    "señor_burns = {'Nombre':'Señor Burns',\n",
    "                  'Edad':'adulta',\n",
    "                   'Pelo':'calvicie',\n",
    "                   'Energía':'excéntrica',\n",
    "                   'Frase':'Excelente',\n",
    "                   'Ropa':'traje',\n",
    "                   'Gustos':'poder',\n",
    "                   'Sexo':'hombre'}\n",
    "nelson_muntz = {'Nombre':'Nelson Muntz',\n",
    "                  'Edad':'niñez',\n",
    "                    'Pelo':'lacio',\n",
    "                   'Energía':'destructiva',\n",
    "                   'Frase':'No te golpees tú sólo',\n",
    "                   'Ropa':'shorts',\n",
    "                   'Gustos':'golpear',\n",
    "                   'Sexo':'hombre'}\n",
    "moe_syzslak = {'Nombre':'Moe Syzslak',\n",
    "                  'Edad':'adulta',\n",
    "                    'Pelo':'rizado',\n",
    "                   'Energía':'suicida',\n",
    "                   'Frase':'Los ricos no son felices. Desde el día en que nacen, hasta el día en que mueren, creen que son felices. Más créeme... no lo son.',\n",
    "                   'Ropa':'pantalones',\n",
    "                   'Gustos':'dinero',\n",
    "                   'Sexo':'hombre'}\n",
    "milhouse_vanhouten = {'Nombre':'Milhouse Van Houten',\n",
    "                  'Edad':'niñez',\n",
    "                    'Pelo':'lacio',\n",
    "                   'Energía':'estudiosa',\n",
    "                   'Frase':'Aaaaay mis anteojos!',\n",
    "                   'Ropa':'shorts',\n",
    "                   'Gustos':'videojuegos',\n",
    "                   'Sexo':'hombre'}\n",
    "ned_flanders = {'Nombre':'Ned Flanders',\n",
    "                  'Edad':'adulta',\n",
    "                    'Pelo':'lacio',\n",
    "                   'Energía':'bondadosa',\n",
    "                   'Frase':'¡Mi amiguillo, estoy de acuerdillo!',\n",
    "                   'Ropa':'pantalones',\n",
    "                   'Gustos':'Biblia',\n",
    "                   'Sexo':'hombre'}\n"
   ]
  },
  {
   "cell_type": "code",
   "execution_count": 16,
   "id": "5396747b-269e-480c-9eca-e711b4a4edb7",
   "metadata": {},
   "outputs": [],
   "source": [
    "personajes_simpson = [homero_simpson, bart_simpson, lisa_simpson, marge_simpson, maggie_simpson,señor_burns, nelson_muntz, moe_syzslak, milhouse_vanhouten, ned_flanders]"
   ]
  },
  {
   "cell_type": "code",
   "execution_count": 17,
   "id": "cb0cfcc5-2e0d-4ea0-a12c-d1e4642a199c",
   "metadata": {},
   "outputs": [
    {
     "name": "stdout",
     "output_type": "stream",
     "text": [
      "{'Nombre': 'Milhouse Van Houten', 'Edad': 'niñez', 'Pelo': 'lacio', 'Energía': 'estudiosa', 'Frase': 'Aaaaay mis anteojos!', 'Ropa': 'shorts', 'Gustos': 'videojuegos', 'Sexo': 'hombre'}\n"
     ]
    }
   ],
   "source": [
    "personaje_escogido = personajes_simpson[random.randint(0,10)]\n",
    "##revisar que se imprime bien, quitar al final\n",
    "print(personaje_escogido)"
   ]
  },
  {
   "cell_type": "code",
   "execution_count": 18,
   "id": "1593c009-6664-4bd5-9494-8dbf629884f6",
   "metadata": {},
   "outputs": [
    {
     "name": "stdout",
     "output_type": "stream",
     "text": [
      "Homero Simpson\n",
      "['adulta', 'calvicie', 'perezosa', \"D'oh!\", 'Jeans', 'cerveza', 'hombre']\n",
      "Bart Simpson\n",
      "['niñez', 'puntiagudo', 'rebelde', 'Multiplicate por cero', 'shorts', 'patineta', 'hombre']\n",
      "Lisa Simpson\n",
      "['niñez', 'estrellado', 'idealista', 'Si alguien me necesita, estaré en mi abitacion.', 'vestido', 'saxofón', 'mujer']\n",
      "Marge Simpson\n",
      "['adulta', 'rizado', 'estresada', '¡Hhmmmm...!', 'vestido', 'apostar', 'mujer']\n",
      "Maggie Simpson\n",
      "['bebé', 'estrellado', 'violenta', 'N/A', 'vestido', 'armas', 'mujer']\n",
      "Señor Burns\n",
      "['adulta', 'calvicie', 'excéntrica', 'Excelente', 'traje', 'poder', 'hombre']\n",
      "Nelson Muntz\n",
      "['niñez', 'lacio', 'destructiva', 'No te golpees tú sólo', 'shorts', 'golpear', 'hombre']\n",
      "Moe Syzslak\n",
      "['adulta', 'rizado', 'suicida', 'Los ricos no son felices. Desde el día en que nacen, hasta el día en que mueren, creen que son felices. Más créeme... no lo son.', 'pantalones', 'dinero', 'hombre']\n",
      "Milhouse Van Houten\n",
      "['niñez', 'lacio', 'estudiosa', 'Aaaaay mis anteojos!', 'shorts', 'videojuegos', 'hombre']\n",
      "Ned Flanders\n",
      "['adulta', 'lacio', 'bondadosa', '¡Mi amiguillo, estoy de acuerdillo!', 'pantalones', 'Biblia', 'hombre']\n",
      "None\n"
     ]
    }
   ],
   "source": [
    "######### quitr simpson y hacerlo general\n",
    "def caracteristicas(lista_caracteristicas):\n",
    "    \n",
    "    for simpson in lista_caracteristicas:\n",
    "        nombrecaracteristica = ''\n",
    "        printlista = []\n",
    "        \n",
    "        for valor in simpson:\n",
    "            if valor == 'Nombre':\n",
    "                nombrecaracteristica = simpson[valor]\n",
    "            else:\n",
    "                printlista.append(simpson[valor])\n",
    "        \n",
    "        print(nombrecaracteristica)\n",
    "        print(printlista)\n",
    "\n",
    "print(caracteristicas(personajes_simpson))"
   ]
  },
  {
   "cell_type": "code",
   "execution_count": 26,
   "id": "e30a38d7-8066-4bd5-8d04-6a7b3436e92e",
   "metadata": {},
   "outputs": [
    {
     "name": "stdout",
     "output_type": "stream",
     "text": [
      "Bienvenido a nuestro juego de Adivina quién\n",
      "Puedes elegir hasta 4 características para adivinar al personaje\n",
      "Las características que puedes poner son: Sexo / Edad / Pelo / Ropa / Energía /Gustos / Frase\n"
     ]
    }
   ],
   "source": [
    "print(\"Bienvenido a nuestro juego de Adivina quién\")\n",
    "print(\"Puedes elegir hasta 4 características para adivinar al personaje\")\n",
    "print(\"Las características que puedes poner son: Sexo / Edad / Pelo / Ropa / Energía /Gustos / Frase\")"
   ]
  },
  {
   "cell_type": "code",
   "execution_count": 27,
   "id": "841aed81-2851-4917-ac8f-2769b8d00c42",
   "metadata": {},
   "outputs": [],
   "source": [
    "inputusuario = ''\n",
    "estatus = ''\n",
    "preguntausuarioCount = 0"
   ]
  },
  {
   "cell_type": "code",
   "execution_count": 29,
   "id": "cfe2245f-7738-4a33-9e04-0464771226b8",
   "metadata": {},
   "outputs": [
    {
     "ename": "SyntaxError",
     "evalue": "invalid syntax (341944486.py, line 14)",
     "output_type": "error",
     "traceback": [
      "\u001b[0;36m  Input \u001b[0;32mIn [29]\u001b[0;36m\u001b[0m\n\u001b[0;31m    elif inputusuario == 'Edad':\u001b[0m\n\u001b[0m    ^\u001b[0m\n\u001b[0;31mSyntaxError\u001b[0m\u001b[0;31m:\u001b[0m invalid syntax\n"
     ]
    }
   ],
   "source": [
    "while inputusuario != 'salir' and estatus != 'Game Over':\n",
    "    \n",
    "    \n",
    "    inputusuario = input (\"Escribe una de las siguientes caracteristicas para descubrir tu personaje: Sexo / Edad / Pelo / Ropa / Energía /Gustos / Frase / Adivinar\")\n",
    "                \n",
    "    ##que una opcion sea adivinar para que si ya se la sabe lo ponga\n",
    "                          \n",
    "    if preguntausuarioCount <= 4:\n",
    "                                      \n",
    "                          if inputusuario == 'Sexo':\n",
    "                                print(personaje_escogido['Sexo']\n",
    "                                preguntausuarioCount += 1\n",
    "                        \n",
    "                          elif inputusuario == 'Edad':\n",
    "                                print(personaje_escogido['Edad']\n",
    "                                preguntausuarioCount += 1\n",
    "                        \n",
    "                          elif inputusuario == 'Pelo':\n",
    "                                print(personaje_escogido['Pelo']\n",
    "                                preguntausuarioCount += 1\n",
    "                                \n",
    "                          elif inputusuario == 'Ropa':\n",
    "                                print(personaje_escogido['Ropa']\n",
    "                                preguntausuarioCount += 1\n",
    "                        \n",
    "                          elif inputusuario == 'Energía':\n",
    "                                print(personaje_escogido['Energía']\n",
    "                                preguntausuarioCount += 1\n",
    "                        \n",
    "                          elif inputusuario == 'Gustos':\n",
    "                                print(personaje_escogido['Gustos']\n",
    "                                preguntausuarioCount += 1\n",
    "                        \n",
    "                          elif inputusuario == 'Frase':\n",
    "                                print(personaje_escogido['Frase']\n",
    "                                preguntausuarioCount += 1\n",
    "                        \n",
    "                         elif inputusuario == 'Adivinar':\n",
    "                              \n",
    "                               resultadousuario = input(\"Ya no puedes tener más pistas. Debes adivinar el nombre del personaje: \")\n",
    "                              \n",
    "                               if resultadousuario == personaje_escogido['Nombre']:\n",
    "                                      \n",
    "                                      estatus = 'Game Over'\n",
    "                                      print(\"¡Adivinaste!\")\n",
    "                                else:\n",
    "                                      estatus = 'Game Over'\n",
    "                                      print(\"No adivinaste\")\n",
    "                         else: \n",
    "                             print(\"Tu respuesta no es válida, vuelve a intentarlo\")\n",
    "                        \n",
    "    else:\n",
    "                        resultadousuario = input(\"Ya no puedes tener más pistas. Debes adivinar el nombre del personaje: \")\n",
    "                        \n",
    "                        if resultadousuario == personaje_escogido['Nombre']:\n",
    "                                      \n",
    "                                      estatus = 'Game Over'\n",
    "                                      print(\"¡Adivinaste!\")\n",
    "                       else:\n",
    "                                      estatus = 'Game Over'\n",
    "                                      print(\"No adivinaste\")\n",
    "                                    \n",
    "    pass"
   ]
  },
  {
   "cell_type": "code",
   "execution_count": null,
   "id": "22a1370c-f9bc-40f8-a88f-1bb83dc8aeab",
   "metadata": {},
   "outputs": [],
   "source": []
  }
 ],
 "metadata": {
  "kernelspec": {
   "display_name": "Python 3 (ipykernel)",
   "language": "python",
   "name": "python3"
  },
  "language_info": {
   "codemirror_mode": {
    "name": "ipython",
    "version": 3
   },
   "file_extension": ".py",
   "mimetype": "text/x-python",
   "name": "python",
   "nbconvert_exporter": "python",
   "pygments_lexer": "ipython3",
   "version": "3.9.12"
  }
 },
 "nbformat": 4,
 "nbformat_minor": 5
}
